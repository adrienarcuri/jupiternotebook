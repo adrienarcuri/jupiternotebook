{
 "cells": [
  {
   "cell_type": "markdown",
   "metadata": {},
   "source": [
    "# Introduction to GPS Tracking of Bird"
   ]
  },
  {
   "cell_type": "code",
   "execution_count": 1,
   "metadata": {},
   "outputs": [],
   "source": [
    "import pandas as pd"
   ]
  },
  {
   "cell_type": "code",
   "execution_count": 4,
   "metadata": {},
   "outputs": [
    {
     "name": "stdout",
     "output_type": "stream",
     "text": [
      "<class 'pandas.core.frame.DataFrame'>\n",
      "RangeIndex: 61920 entries, 0 to 61919\n",
      "Data columns (total 8 columns):\n",
      "altitude              61920 non-null int64\n",
      "date_time             61920 non-null object\n",
      "device_info_serial    61920 non-null int64\n",
      "direction             61477 non-null float64\n",
      "latitude              61920 non-null float64\n",
      "longitude             61920 non-null float64\n",
      "speed_2d              61477 non-null float64\n",
      "bird_name             61920 non-null object\n",
      "dtypes: float64(4), int64(2), object(2)\n",
      "memory usage: 3.8+ MB\n"
     ]
    }
   ],
   "source": [
    "birddata = pd.read_csv(\"Bird/bird_tracking.csv\")\n",
    "birddata.info()"
   ]
  },
  {
   "cell_type": "code",
   "execution_count": 5,
   "metadata": {},
   "outputs": [
    {
     "data": {
      "text/html": [
       "<div>\n",
       "<style scoped>\n",
       "    .dataframe tbody tr th:only-of-type {\n",
       "        vertical-align: middle;\n",
       "    }\n",
       "\n",
       "    .dataframe tbody tr th {\n",
       "        vertical-align: top;\n",
       "    }\n",
       "\n",
       "    .dataframe thead th {\n",
       "        text-align: right;\n",
       "    }\n",
       "</style>\n",
       "<table border=\"1\" class=\"dataframe\">\n",
       "  <thead>\n",
       "    <tr style=\"text-align: right;\">\n",
       "      <th></th>\n",
       "      <th>altitude</th>\n",
       "      <th>date_time</th>\n",
       "      <th>device_info_serial</th>\n",
       "      <th>direction</th>\n",
       "      <th>latitude</th>\n",
       "      <th>longitude</th>\n",
       "      <th>speed_2d</th>\n",
       "      <th>bird_name</th>\n",
       "    </tr>\n",
       "  </thead>\n",
       "  <tbody>\n",
       "    <tr>\n",
       "      <th>0</th>\n",
       "      <td>71</td>\n",
       "      <td>2013-08-15 00:18:08+00</td>\n",
       "      <td>851</td>\n",
       "      <td>-150.469753</td>\n",
       "      <td>49.419859</td>\n",
       "      <td>2.120733</td>\n",
       "      <td>0.150000</td>\n",
       "      <td>Eric</td>\n",
       "    </tr>\n",
       "    <tr>\n",
       "      <th>1</th>\n",
       "      <td>68</td>\n",
       "      <td>2013-08-15 00:48:07+00</td>\n",
       "      <td>851</td>\n",
       "      <td>-136.151141</td>\n",
       "      <td>49.419880</td>\n",
       "      <td>2.120746</td>\n",
       "      <td>2.438360</td>\n",
       "      <td>Eric</td>\n",
       "    </tr>\n",
       "    <tr>\n",
       "      <th>2</th>\n",
       "      <td>68</td>\n",
       "      <td>2013-08-15 01:17:58+00</td>\n",
       "      <td>851</td>\n",
       "      <td>160.797477</td>\n",
       "      <td>49.420310</td>\n",
       "      <td>2.120885</td>\n",
       "      <td>0.596657</td>\n",
       "      <td>Eric</td>\n",
       "    </tr>\n",
       "    <tr>\n",
       "      <th>3</th>\n",
       "      <td>73</td>\n",
       "      <td>2013-08-15 01:47:51+00</td>\n",
       "      <td>851</td>\n",
       "      <td>32.769360</td>\n",
       "      <td>49.420359</td>\n",
       "      <td>2.120859</td>\n",
       "      <td>0.310161</td>\n",
       "      <td>Eric</td>\n",
       "    </tr>\n",
       "    <tr>\n",
       "      <th>4</th>\n",
       "      <td>69</td>\n",
       "      <td>2013-08-15 02:17:42+00</td>\n",
       "      <td>851</td>\n",
       "      <td>45.191230</td>\n",
       "      <td>49.420331</td>\n",
       "      <td>2.120887</td>\n",
       "      <td>0.193132</td>\n",
       "      <td>Eric</td>\n",
       "    </tr>\n",
       "  </tbody>\n",
       "</table>\n",
       "</div>"
      ],
      "text/plain": [
       "   altitude               date_time  device_info_serial   direction  \\\n",
       "0        71  2013-08-15 00:18:08+00                 851 -150.469753   \n",
       "1        68  2013-08-15 00:48:07+00                 851 -136.151141   \n",
       "2        68  2013-08-15 01:17:58+00                 851  160.797477   \n",
       "3        73  2013-08-15 01:47:51+00                 851   32.769360   \n",
       "4        69  2013-08-15 02:17:42+00                 851   45.191230   \n",
       "\n",
       "    latitude  longitude  speed_2d bird_name  \n",
       "0  49.419859   2.120733  0.150000      Eric  \n",
       "1  49.419880   2.120746  2.438360      Eric  \n",
       "2  49.420310   2.120885  0.596657      Eric  \n",
       "3  49.420359   2.120859  0.310161      Eric  \n",
       "4  49.420331   2.120887  0.193132      Eric  "
      ]
     },
     "execution_count": 5,
     "metadata": {},
     "output_type": "execute_result"
    }
   ],
   "source": [
    "birddata.head()"
   ]
  },
  {
   "cell_type": "markdown",
   "metadata": {},
   "source": [
    "# Simple Data Visualizations"
   ]
  },
  {
   "cell_type": "code",
   "execution_count": 6,
   "metadata": {},
   "outputs": [],
   "source": [
    "import matplotlib.pyplot as plt\n",
    "import numpy as np"
   ]
  },
  {
   "cell_type": "code",
   "execution_count": 13,
   "metadata": {},
   "outputs": [
    {
     "data": {
      "image/png": "[encoded data removed]",
      "text/plain": [
       "<matplotlib.figure.Figure at 0xa2497b8>"
      ]
     },
     "metadata": {},
     "output_type": "display_data"
    }
   ],
   "source": [
    "ix = birddata.bird_name == \"Eric\"\n",
    "x, y = birddata.longitude[ix], birddata.latitude[ix]\n",
    "plt.figure(figsize=(7,7))\n",
    "plt.plot(x,y, \".\");"
   ]
  },
  {
   "cell_type": "code",
   "execution_count": 18,
   "metadata": {},
   "outputs": [
    {
     "data": {
      "image/png": "[encoded data removed]",
      "text/plain": [
       "<matplotlib.figure.Figure at 0xb9d6b00>"
      ]
     },
     "metadata": {},
     "output_type": "display_data"
    }
   ],
   "source": [
    "bird_names = pd.unique(birddata.bird_name)\n",
    "plt.figure(figsize=(7,7))\n",
    "for bird_name in bird_names:\n",
    "    ix = birddata.bird_name == bird_name\n",
    "    x, y = birddata.longitude[ix], birddata.latitude[ix]\n",
    "    plt.plot(x,y, \".\");\n",
    "    plt.plot(x,y,\".\",label=bird_name )\n",
    "    \n",
    "plt.xlabel(\"longitude\")\n",
    "plt.ylabel(\"latitude\")\n",
    "plt.legend(loc=\"lower right\")\n",
    "plt.savefig(\"3traj.pdf\")"
   ]
  },
  {
   "cell_type": "markdown",
   "metadata": {},
   "source": [
    "# Examining Flight Speed"
   ]
  },
  {
   "cell_type": "code",
   "execution_count": 25,
   "metadata": {},
   "outputs": [],
   "source": [
    "ix = birddata.bird_name == 'Eric'\n",
    "speed = birddata.speed_2d[ix]\n",
    "spee[:10]"
   ]
  },
  {
   "cell_type": "code",
   "execution_count": 26,
   "metadata": {},
   "outputs": [
    {
     "data": {
      "text/plain": [
       "True"
      ]
     },
     "execution_count": 26,
     "metadata": {},
     "output_type": "execute_result"
    }
   ],
   "source": [
    "np.isnan(speed).any()"
   ]
  },
  {
   "cell_type": "code",
   "execution_count": 27,
   "metadata": {},
   "outputs": [
    {
     "data": {
      "text/plain": [
       "85"
      ]
     },
     "execution_count": 27,
     "metadata": {},
     "output_type": "execute_result"
    }
   ],
   "source": [
    "sum(np.isnan(speed))"
   ]
  },
  {
   "cell_type": "code",
   "execution_count": 33,
   "metadata": {},
   "outputs": [
    {
     "data": {
      "image/png": "[encoded data removed]",
      "text/plain": [
       "<matplotlib.figure.Figure at 0xbc36cc0>"
      ]
     },
     "metadata": {},
     "output_type": "display_data"
    }
   ],
   "source": [
    "ind = np.isnan(speed)\n",
    "plt.hist(speed[~ind])\n",
    "plt.savefig(\"hist.pdf\")"
   ]
  },
  {
   "cell_type": "code",
   "execution_count": 34,
   "metadata": {},
   "outputs": [
    {
     "data": {
      "image/png": "[encoded data removed]",
      "text/plain": [
       "<matplotlib.figure.Figure at 0xb70d320>"
      ]
     },
     "metadata": {},
     "output_type": "display_data"
    }
   ],
   "source": [
    "plt.figure(figsize=(8,4))\n",
    "speed = birddata.speed_2d[birddata.bird_name == 'Eric']\n",
    "ind = np.isnan(speed)\n",
    "plt.hist(speed[~ind], bins=np.linspace(0,30,20), normed=True)\n",
    "plt.xlabel(\"2D speed (m/s)\")\n",
    "plt.ylabel(\"Frequency\");"
   ]
  },
  {
   "cell_type": "code",
   "execution_count": 36,
   "metadata": {},
   "outputs": [
    {
     "data": {
      "image/png": "[encoded data removed]",
      "text/plain": [
       "<matplotlib.figure.Figure at 0xb920dd8>"
      ]
     },
     "metadata": {},
     "output_type": "display_data"
    }
   ],
   "source": [
    "birddata.speed_2d.plot(kind='hist', range=[0, 30])\n",
    "plt.xlabel(\"2D speed\");\n",
    "plt.savefig('pd_hist.pdf')"
   ]
  },
  {
   "cell_type": "markdown",
   "metadata": {},
   "source": [
    "Using panda to display histogram, we do not have to deal with Nan"
   ]
  },
  {
   "cell_type": "markdown",
   "metadata": {},
   "source": [
    "# Using Datetime"
   ]
  },
  {
   "cell_type": "code",
   "execution_count": 39,
   "metadata": {},
   "outputs": [
    {
     "data": {
      "text/plain": [
       "Index(['altitude', 'date_time', 'device_info_serial', 'direction', 'latitude',\n",
       "       'longitude', 'speed_2d', 'bird_name'],\n",
       "      dtype='object')"
      ]
     },
     "execution_count": 39,
     "metadata": {},
     "output_type": "execute_result"
    }
   ],
   "source": [
    "import datetime\n",
    "birddata.columns"
   ]
  },
  {
   "cell_type": "code",
   "execution_count": 38,
   "metadata": {},
   "outputs": [
    {
     "data": {
      "text/plain": [
       "0    2013-08-15 00:18:08+00\n",
       "1    2013-08-15 00:48:07+00\n",
       "2    2013-08-15 01:17:58+00\n",
       "Name: date_time, dtype: object"
      ]
     },
     "execution_count": 38,
     "metadata": {},
     "output_type": "execute_result"
    }
   ],
   "source": [
    "birddata.date_time[0:3]"
   ]
  },
  {
   "cell_type": "code",
   "execution_count": 40,
   "metadata": {},
   "outputs": [
    {
     "data": {
      "text/plain": [
       "datetime.datetime(2018, 3, 26, 16, 23, 40, 235515)"
      ]
     },
     "execution_count": 40,
     "metadata": {},
     "output_type": "execute_result"
    }
   ],
   "source": [
    "datetime.datetime.today()"
   ]
  },
  {
   "cell_type": "code",
   "execution_count": 48,
   "metadata": {},
   "outputs": [],
   "source": [
    "time_1 = datetime.datetime.today()"
   ]
  },
  {
   "cell_type": "code",
   "execution_count": 49,
   "metadata": {},
   "outputs": [
    {
     "data": {
      "text/plain": [
       "datetime.timedelta(0, 2, 124000)"
      ]
     },
     "execution_count": 49,
     "metadata": {},
     "output_type": "execute_result"
    }
   ],
   "source": [
    "time_2 = datetime.datetime.today()\n",
    "time_2 - time_1"
   ]
  },
  {
   "cell_type": "code",
   "execution_count": 51,
   "metadata": {},
   "outputs": [
    {
     "data": {
      "text/plain": [
       "str"
      ]
     },
     "execution_count": 51,
     "metadata": {},
     "output_type": "execute_result"
    }
   ],
   "source": [
    "date_str = birddata.date_time[0]\n",
    "type(date_str)"
   ]
  },
  {
   "cell_type": "code",
   "execution_count": 52,
   "metadata": {},
   "outputs": [
    {
     "data": {
      "text/plain": [
       "'2013-08-15 00:18:08+00'"
      ]
     },
     "execution_count": 52,
     "metadata": {},
     "output_type": "execute_result"
    }
   ],
   "source": [
    "date_str"
   ]
  },
  {
   "cell_type": "code",
   "execution_count": 54,
   "metadata": {},
   "outputs": [
    {
     "data": {
      "text/plain": [
       "datetime.datetime(2013, 8, 15, 0, 18, 8)"
      ]
     },
     "execution_count": 54,
     "metadata": {},
     "output_type": "execute_result"
    }
   ],
   "source": [
    "datetime.datetime.strptime(date_str[:-3], \"%Y-%m-%d %H:%M:%S\")"
   ]
  },
  {
   "cell_type": "code",
   "execution_count": 55,
   "metadata": {},
   "outputs": [],
   "source": [
    "timestamps = []\n",
    "for k in range(len(birddata)):\n",
    "    timestamps.append(datetime.datetime.strptime(birddata.date_time.iloc[k][:-3], \"%Y-%m-%d %H:%M:%S\"))"
   ]
  },
  {
   "cell_type": "code",
   "execution_count": 57,
   "metadata": {},
   "outputs": [
    {
     "data": {
      "text/plain": [
       "[datetime.datetime(2013, 8, 15, 0, 18, 8),\n",
       " datetime.datetime(2013, 8, 15, 0, 48, 7),\n",
       " datetime.datetime(2013, 8, 15, 1, 17, 58)]"
      ]
     },
     "execution_count": 57,
     "metadata": {},
     "output_type": "execute_result"
    }
   ],
   "source": [
    "timestamps[0:3]"
   ]
  },
  {
   "cell_type": "code",
   "execution_count": 58,
   "metadata": {},
   "outputs": [],
   "source": [
    "birddata[\"timestamp\"] = pd.Series(timestamps, index = birddata.index)"
   ]
  },
  {
   "cell_type": "code",
   "execution_count": 59,
   "metadata": {},
   "outputs": [
    {
     "data": {
      "text/html": [
       "<div>\n",
       "<style scoped>\n",
       "    .dataframe tbody tr th:only-of-type {\n",
       "        vertical-align: middle;\n",
       "    }\n",
       "\n",
       "    .dataframe tbody tr th {\n",
       "        vertical-align: top;\n",
       "    }\n",
       "\n",
       "    .dataframe thead th {\n",
       "        text-align: right;\n",
       "    }\n",
       "</style>\n",
       "<table border=\"1\" class=\"dataframe\">\n",
       "  <thead>\n",
       "    <tr style=\"text-align: right;\">\n",
       "      <th></th>\n",
       "      <th>altitude</th>\n",
       "      <th>date_time</th>\n",
       "      <th>device_info_serial</th>\n",
       "      <th>direction</th>\n",
       "      <th>latitude</th>\n",
       "      <th>longitude</th>\n",
       "      <th>speed_2d</th>\n",
       "      <th>bird_name</th>\n",
       "      <th>timestamp</th>\n",
       "    </tr>\n",
       "  </thead>\n",
       "  <tbody>\n",
       "    <tr>\n",
       "      <th>0</th>\n",
       "      <td>71</td>\n",
       "      <td>2013-08-15 00:18:08+00</td>\n",
       "      <td>851</td>\n",
       "      <td>-150.469753</td>\n",
       "      <td>49.419859</td>\n",
       "      <td>2.120733</td>\n",
       "      <td>0.150000</td>\n",
       "      <td>Eric</td>\n",
       "      <td>2013-08-15 00:18:08</td>\n",
       "    </tr>\n",
       "    <tr>\n",
       "      <th>1</th>\n",
       "      <td>68</td>\n",
       "      <td>2013-08-15 00:48:07+00</td>\n",
       "      <td>851</td>\n",
       "      <td>-136.151141</td>\n",
       "      <td>49.419880</td>\n",
       "      <td>2.120746</td>\n",
       "      <td>2.438360</td>\n",
       "      <td>Eric</td>\n",
       "      <td>2013-08-15 00:48:07</td>\n",
       "    </tr>\n",
       "    <tr>\n",
       "      <th>2</th>\n",
       "      <td>68</td>\n",
       "      <td>2013-08-15 01:17:58+00</td>\n",
       "      <td>851</td>\n",
       "      <td>160.797477</td>\n",
       "      <td>49.420310</td>\n",
       "      <td>2.120885</td>\n",
       "      <td>0.596657</td>\n",
       "      <td>Eric</td>\n",
       "      <td>2013-08-15 01:17:58</td>\n",
       "    </tr>\n",
       "    <tr>\n",
       "      <th>3</th>\n",
       "      <td>73</td>\n",
       "      <td>2013-08-15 01:47:51+00</td>\n",
       "      <td>851</td>\n",
       "      <td>32.769360</td>\n",
       "      <td>49.420359</td>\n",
       "      <td>2.120859</td>\n",
       "      <td>0.310161</td>\n",
       "      <td>Eric</td>\n",
       "      <td>2013-08-15 01:47:51</td>\n",
       "    </tr>\n",
       "    <tr>\n",
       "      <th>4</th>\n",
       "      <td>69</td>\n",
       "      <td>2013-08-15 02:17:42+00</td>\n",
       "      <td>851</td>\n",
       "      <td>45.191230</td>\n",
       "      <td>49.420331</td>\n",
       "      <td>2.120887</td>\n",
       "      <td>0.193132</td>\n",
       "      <td>Eric</td>\n",
       "      <td>2013-08-15 02:17:42</td>\n",
       "    </tr>\n",
       "  </tbody>\n",
       "</table>\n",
       "</div>"
      ],
      "text/plain": [
       "   altitude               date_time  device_info_serial   direction  \\\n",
       "0        71  2013-08-15 00:18:08+00                 851 -150.469753   \n",
       "1        68  2013-08-15 00:48:07+00                 851 -136.151141   \n",
       "2        68  2013-08-15 01:17:58+00                 851  160.797477   \n",
       "3        73  2013-08-15 01:47:51+00                 851   32.769360   \n",
       "4        69  2013-08-15 02:17:42+00                 851   45.191230   \n",
       "\n",
       "    latitude  longitude  speed_2d bird_name           timestamp  \n",
       "0  49.419859   2.120733  0.150000      Eric 2013-08-15 00:18:08  \n",
       "1  49.419880   2.120746  2.438360      Eric 2013-08-15 00:48:07  \n",
       "2  49.420310   2.120885  0.596657      Eric 2013-08-15 01:17:58  \n",
       "3  49.420359   2.120859  0.310161      Eric 2013-08-15 01:47:51  \n",
       "4  49.420331   2.120887  0.193132      Eric 2013-08-15 02:17:42  "
      ]
     },
     "execution_count": 59,
     "metadata": {},
     "output_type": "execute_result"
    }
   ],
   "source": [
    "birddata.head()"
   ]
  },
  {
   "cell_type": "code",
   "execution_count": 60,
   "metadata": {},
   "outputs": [
    {
     "data": {
      "text/plain": [
       "Timedelta('0 days 00:29:51')"
      ]
     },
     "execution_count": 60,
     "metadata": {},
     "output_type": "execute_result"
    }
   ],
   "source": [
    "birddata.timestamp[4] - birddata.timestamp[3]"
   ]
  },
  {
   "cell_type": "code",
   "execution_count": 65,
   "metadata": {},
   "outputs": [
    {
     "data": {
      "text/plain": [
       "[Timedelta('0 days 00:00:00'),\n",
       " Timedelta('0 days 00:29:59'),\n",
       " Timedelta('0 days 00:59:50'),\n",
       " Timedelta('0 days 01:29:43'),\n",
       " Timedelta('0 days 01:59:34'),\n",
       " Timedelta('0 days 02:29:30'),\n",
       " Timedelta('0 days 02:44:25'),\n",
       " Timedelta('0 days 02:59:19'),\n",
       " Timedelta('0 days 03:14:27'),\n",
       " Timedelta('0 days 03:29:40')]"
      ]
     },
     "execution_count": 65,
     "metadata": {},
     "output_type": "execute_result"
    }
   ],
   "source": [
    "times = birddata.timestamp[birddata.bird_name ==\"Eric\"]\n",
    "elapsed_time = [time - times[0] for time in times]\n",
    "elapsed_time[0:10]"
   ]
  },
  {
   "cell_type": "code",
   "execution_count": 67,
   "metadata": {},
   "outputs": [
    {
     "name": "stdout",
     "output_type": "stream",
     "text": [
      "12.084722222222222\n",
      "290.03333333333336\n"
     ]
    }
   ],
   "source": [
    "print(elapsed_time[1000] / datetime.timedelta(days=1))\n",
    "print(elapsed_time[1000] / datetime.timedelta(hours=1))"
   ]
  },
  {
   "cell_type": "code",
   "execution_count": 69,
   "metadata": {},
   "outputs": [
    {
     "data": {
      "image/png": "[encoded data removed]",
      "text/plain": [
       "<matplotlib.figure.Figure at 0xe99e4e0>"
      ]
     },
     "metadata": {},
     "output_type": "display_data"
    }
   ],
   "source": [
    "plt.plot(np.array(elapsed_time) / datetime.timedelta(days=1))\n",
    "plt.xlabel(\"Observation\")\n",
    "plt.ylabel(\"Elapsed time (days)\");"
   ]
  },
  {
   "cell_type": "markdown",
   "metadata": {},
   "source": [
    "# Calculating Daily Mean Speed"
   ]
  },
  {
   "cell_type": "code",
   "execution_count": 74,
   "metadata": {},
   "outputs": [],
   "source": [
    "data = birddata[birddata.bird_name == \"Eric\"]\n",
    "times = data.timestamp\n",
    "elapsed_time = [time - times[0] for time in times]\n",
    "elapsed_days = np.array(elapsed_time) / datetime.timedelta(days=1)\n",
    "next_day = 1\n",
    "inds = []\n",
    "daily_mean_speed = []\n",
    "for (i,t) in enumerate(elapsed_days):\n",
    "    if t < next_day:\n",
    "        inds.append(i)\n",
    "    else:\n",
    "        daily_mean_speed.append(np.mean(data.speed_2d[inds]))\n",
    "        next_day += 1\n",
    "        inds = []\n",
    "        \n",
    "        "
   ]
  },
  {
   "cell_type": "code",
   "execution_count": 77,
   "metadata": {},
   "outputs": [
    {
     "data": {
      "text/plain": [
       "Text(0,0.5,'Mean speed (m/s)')"
      ]
     },
     "execution_count": 77,
     "metadata": {},
     "output_type": "execute_result"
    },
    {
     "data": {
      "image/png": "[encoded data removed]",
      "text/plain": [
       "<matplotlib.figure.Figure at 0xf520198>"
      ]
     },
     "metadata": {},
     "output_type": "display_data"
    }
   ],
   "source": [
    "plt.figure(figsize=(8,6))\n",
    "plt.plot(daily_mean_speed)\n",
    "plt.xlabel(\"Day\")\n",
    "plt.ylabel(\"Mean speed (m/s)\")"
   ]
  },
  {
   "cell_type": "markdown",
   "metadata": {},
   "source": [
    "Migration pics"
   ]
  },
  {
   "cell_type": "markdown",
   "metadata": {},
   "source": [
    "# Using the Cartopy Library"
   ]
  },
  {
   "cell_type": "code",
   "execution_count": 92,
   "metadata": {},
   "outputs": [
    {
     "ename": "ModuleNotFoundError",
     "evalue": "No module named 'cartopy'",
     "output_type": "error",
     "traceback": [
      "\u001b[1;31m---------------------------------------------------------------------------\u001b[0m",
      "\u001b[1;31mModuleNotFoundError\u001b[0m                       Traceback (most recent call last)",
      "\u001b[1;32m<ipython-input-92-139fa5ad2567>\u001b[0m in \u001b[0;36m<module>\u001b[1;34m()\u001b[0m\n\u001b[1;32m----> 1\u001b[1;33m \u001b[1;32mimport\u001b[0m \u001b[0mcartopy\u001b[0m\u001b[1;33m.\u001b[0m\u001b[0mcrs\u001b[0m \u001b[1;32mas\u001b[0m \u001b[0mccrs\u001b[0m\u001b[1;33m\u001b[0m\u001b[0m\n\u001b[0m",
      "\u001b[1;31mModuleNotFoundError\u001b[0m: No module named 'cartopy'"
     ]
    }
   ],
   "source": [
    "import cartopy.crs as ccrs\n",
    "import cartopy.feature as cfeature"
   ]
  },
  {
   "cell_type": "code",
   "execution_count": null,
   "metadata": {},
   "outputs": [],
   "source": []
  }
 ],
 "metadata": {
  "kernelspec": {
   "display_name": "Python 3",
   "language": "python",
   "name": "python3"
  },
  "language_info": {
   "codemirror_mode": {
    "name": "ipython",
    "version": 3
   },
   "file_extension": ".py",
   "mimetype": "text/x-python",
   "name": "python",
   "nbconvert_exporter": "python",
   "pygments_lexer": "ipython3",
   "version": "3.6.4"
  }
 },
 "nbformat": 4,
 "nbformat_minor": 2
}
