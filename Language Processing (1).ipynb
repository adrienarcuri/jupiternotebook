{
 "cells": [
  {
   "cell_type": "markdown",
   "metadata": {},
   "source": [
    "# Counting words"
   ]
  },
  {
   "cell_type": "code",
   "execution_count": 1,
   "metadata": {},
   "outputs": [],
   "source": [
    "from collections import Counter"
   ]
  },
  {
   "cell_type": "code",
   "execution_count": 2,
   "metadata": {},
   "outputs": [],
   "source": [
    "text = \"Quam ob rem cave Catoni anteponas ne istum quidem ipsum, quem Apollo, ut ais, sapientissimum iudicavit; huius enim facta, illius dicta laudantur. De me autem, ut iam cum utroque vestrum loquar, sic habetote.\""
   ]
  },
  {
   "cell_type": "code",
   "execution_count": 3,
   "metadata": {},
   "outputs": [],
   "source": [
    "def count_words(text):\n",
    "    \"\"\" Documentation here\"\"\"\n",
    "    word_counts = {}\n",
    "    text = text.lower()\n",
    "    skips = [\".\", \",\", \";\", \":\", '\"', \"'\"]\n",
    "    \n",
    "    for ch in skips:\n",
    "        text = text.replace(ch,\"\")\n",
    "\n",
    "    for word in text.split(\" \"):\n",
    "        if word in word_counts:\n",
    "            word_counts[word] += 1\n",
    "        else:\n",
    "            word_counts[word] = 1\n",
    "    return word_counts\n",
    "        "
   ]
  },
  {
   "cell_type": "code",
   "execution_count": 4,
   "metadata": {},
   "outputs": [
    {
     "data": {
      "text/plain": [
       "{'ais': 1,\n",
       " 'anteponas': 1,\n",
       " 'apollo': 1,\n",
       " 'autem': 1,\n",
       " 'catoni': 1,\n",
       " 'cave': 1,\n",
       " 'cum': 1,\n",
       " 'de': 1,\n",
       " 'dicta': 1,\n",
       " 'enim': 1,\n",
       " 'facta': 1,\n",
       " 'habetote': 1,\n",
       " 'huius': 1,\n",
       " 'iam': 1,\n",
       " 'illius': 1,\n",
       " 'ipsum': 1,\n",
       " 'istum': 1,\n",
       " 'iudicavit': 1,\n",
       " 'laudantur': 1,\n",
       " 'loquar': 1,\n",
       " 'me': 1,\n",
       " 'ne': 1,\n",
       " 'ob': 1,\n",
       " 'quam': 1,\n",
       " 'quem': 1,\n",
       " 'quidem': 1,\n",
       " 'rem': 1,\n",
       " 'sapientissimum': 1,\n",
       " 'sic': 1,\n",
       " 'ut': 2,\n",
       " 'utroque': 1,\n",
       " 'vestrum': 1}"
      ]
     },
     "execution_count": 4,
     "metadata": {},
     "output_type": "execute_result"
    }
   ],
   "source": [
    "count_words(text)"
   ]
  },
  {
   "cell_type": "code",
   "execution_count": 5,
   "metadata": {},
   "outputs": [
    {
     "data": {
      "text/plain": [
       "'quam ob rem cave catoni anteponas ne istum quidem ipsum, quem apollo, ut ais, sapientissimum iudicavit; huius enim facta, illius dicta laudantur. de me autem, ut iam cum utroque vestrum loquar, sic habetote.'"
      ]
     },
     "execution_count": 5,
     "metadata": {},
     "output_type": "execute_result"
    }
   ],
   "source": [
    "text.lower()"
   ]
  },
  {
   "cell_type": "code",
   "execution_count": 6,
   "metadata": {},
   "outputs": [],
   "source": [
    "def count_words_fast(text):\n",
    "    \"\"\" Documentation here\"\"\"\n",
    "    word_counts = {}\n",
    "    text = text.lower()\n",
    "    skips = [\".\", \",\", \";\", \":\", '\"', \"'\"]\n",
    "    \n",
    "    for ch in skips:\n",
    "        text = text.replace(ch,\"\")\n",
    "\n",
    "    word_counts = Counter(text.split(\" \"))\n",
    "    return word_counts"
   ]
  },
  {
   "cell_type": "code",
   "execution_count": 7,
   "metadata": {},
   "outputs": [
    {
     "data": {
      "text/plain": [
       "Counter({'ais': 1,\n",
       "         'anteponas': 1,\n",
       "         'apollo': 1,\n",
       "         'autem': 1,\n",
       "         'catoni': 1,\n",
       "         'cave': 1,\n",
       "         'cum': 1,\n",
       "         'de': 1,\n",
       "         'dicta': 1,\n",
       "         'enim': 1,\n",
       "         'facta': 1,\n",
       "         'habetote': 1,\n",
       "         'huius': 1,\n",
       "         'iam': 1,\n",
       "         'illius': 1,\n",
       "         'ipsum': 1,\n",
       "         'istum': 1,\n",
       "         'iudicavit': 1,\n",
       "         'laudantur': 1,\n",
       "         'loquar': 1,\n",
       "         'me': 1,\n",
       "         'ne': 1,\n",
       "         'ob': 1,\n",
       "         'quam': 1,\n",
       "         'quem': 1,\n",
       "         'quidem': 1,\n",
       "         'rem': 1,\n",
       "         'sapientissimum': 1,\n",
       "         'sic': 1,\n",
       "         'ut': 2,\n",
       "         'utroque': 1,\n",
       "         'vestrum': 1})"
      ]
     },
     "execution_count": 7,
     "metadata": {},
     "output_type": "execute_result"
    }
   ],
   "source": [
    "count_words_fast(text)"
   ]
  },
  {
   "cell_type": "code",
   "execution_count": 8,
   "metadata": {},
   "outputs": [
    {
     "data": {
      "text/plain": [
       "True"
      ]
     },
     "execution_count": 8,
     "metadata": {},
     "output_type": "execute_result"
    }
   ],
   "source": [
    "count_words(text) == count_words_fast(text)"
   ]
  },
  {
   "cell_type": "markdown",
   "metadata": {},
   "source": [
    "# Readin in a book"
   ]
  },
  {
   "cell_type": "code",
   "execution_count": 9,
   "metadata": {},
   "outputs": [],
   "source": [
    "def read_book(title_path):\n",
    "    \"\"\"\"Read a book and return a string\"\"\"\n",
    "    with open(title_path, \"r\", encoding=\"utf8\") as current_file:\n",
    "        text = current_file.read()\n",
    "        text = text.replace(\"\\n\", \"\").replace(\"\\r\", \"\")\n",
    "    return text"
   ]
  },
  {
   "cell_type": "code",
   "execution_count": 10,
   "metadata": {},
   "outputs": [
    {
     "data": {
      "text/plain": [
       "'/home/jovyan'"
      ]
     },
     "execution_count": 10,
     "metadata": {},
     "output_type": "execute_result"
    }
   ],
   "source": [
    "pwd"
   ]
  },
  {
   "cell_type": "code",
   "execution_count": 11,
   "metadata": {},
   "outputs": [
    {
     "ename": "FileNotFoundError",
     "evalue": "[Errno 2] No such file or directory: 'THE_KING_IN_YELLOW.txt'",
     "output_type": "error",
     "traceback": [
      "\u001b[0;31m---------------------------------------------------------------------------\u001b[0m",
      "\u001b[0;31mFileNotFoundError\u001b[0m                         Traceback (most recent call last)",
      "\u001b[0;32m<ipython-input-11-e08a7deff3a0>\u001b[0m in \u001b[0;36m<module>\u001b[0;34m()\u001b[0m\n\u001b[0;32m----> 1\u001b[0;31m \u001b[0mtext\u001b[0m \u001b[0;34m=\u001b[0m \u001b[0mread_book\u001b[0m\u001b[0;34m(\u001b[0m\u001b[0;34m\"THE_KING_IN_YELLOW.txt\"\u001b[0m\u001b[0;34m)\u001b[0m\u001b[0;34m\u001b[0m\u001b[0m\n\u001b[0m\u001b[1;32m      2\u001b[0m \u001b[0mlen\u001b[0m\u001b[0;34m(\u001b[0m\u001b[0mtext\u001b[0m\u001b[0;34m)\u001b[0m\u001b[0;34m\u001b[0m\u001b[0m\n",
      "\u001b[0;32m<ipython-input-9-a7ffbbcfa6a2>\u001b[0m in \u001b[0;36mread_book\u001b[0;34m(title_path)\u001b[0m\n\u001b[1;32m      1\u001b[0m \u001b[0;32mdef\u001b[0m \u001b[0mread_book\u001b[0m\u001b[0;34m(\u001b[0m\u001b[0mtitle_path\u001b[0m\u001b[0;34m)\u001b[0m\u001b[0;34m:\u001b[0m\u001b[0;34m\u001b[0m\u001b[0m\n\u001b[1;32m      2\u001b[0m     \u001b[0;34m\"\"\"\"Read a book and return a string\"\"\"\u001b[0m\u001b[0;34m\u001b[0m\u001b[0m\n\u001b[0;32m----> 3\u001b[0;31m     \u001b[0;32mwith\u001b[0m \u001b[0mopen\u001b[0m\u001b[0;34m(\u001b[0m\u001b[0mtitle_path\u001b[0m\u001b[0;34m,\u001b[0m \u001b[0;34m\"r\"\u001b[0m\u001b[0;34m,\u001b[0m \u001b[0mencoding\u001b[0m\u001b[0;34m=\u001b[0m\u001b[0;34m\"utf8\"\u001b[0m\u001b[0;34m)\u001b[0m \u001b[0;32mas\u001b[0m \u001b[0mcurrent_file\u001b[0m\u001b[0;34m:\u001b[0m\u001b[0;34m\u001b[0m\u001b[0m\n\u001b[0m\u001b[1;32m      4\u001b[0m         \u001b[0mtext\u001b[0m \u001b[0;34m=\u001b[0m \u001b[0mcurrent_file\u001b[0m\u001b[0;34m.\u001b[0m\u001b[0mread\u001b[0m\u001b[0;34m(\u001b[0m\u001b[0;34m)\u001b[0m\u001b[0;34m\u001b[0m\u001b[0m\n\u001b[1;32m      5\u001b[0m         \u001b[0mtext\u001b[0m \u001b[0;34m=\u001b[0m \u001b[0mtext\u001b[0m\u001b[0;34m.\u001b[0m\u001b[0mreplace\u001b[0m\u001b[0;34m(\u001b[0m\u001b[0;34m\"\\n\"\u001b[0m\u001b[0;34m,\u001b[0m \u001b[0;34m\"\"\u001b[0m\u001b[0;34m)\u001b[0m\u001b[0;34m.\u001b[0m\u001b[0mreplace\u001b[0m\u001b[0;34m(\u001b[0m\u001b[0;34m\"\\r\"\u001b[0m\u001b[0;34m,\u001b[0m \u001b[0;34m\"\"\u001b[0m\u001b[0;34m)\u001b[0m\u001b[0;34m\u001b[0m\u001b[0m\n",
      "\u001b[0;31mFileNotFoundError\u001b[0m: [Errno 2] No such file or directory: 'THE_KING_IN_YELLOW.txt'"
     ]
    }
   ],
   "source": [
    "text = read_book(\"THE_KING_IN_YELLOW.txt\")\n",
    "len(text)"
   ]
  },
  {
   "cell_type": "code",
   "execution_count": null,
   "metadata": {},
   "outputs": [],
   "source": [
    "ind = text.find(\"I will tell you\")"
   ]
  },
  {
   "cell_type": "code",
   "execution_count": null,
   "metadata": {},
   "outputs": [],
   "source": [
    "simple_text = text[ind: ind+1000]\n",
    "print(simple_text)"
   ]
  },
  {
   "cell_type": "code",
   "execution_count": null,
   "metadata": {},
   "outputs": [],
   "source": []
  }
 ],
 "metadata": {
  "kernelspec": {
   "display_name": "Python 3",
   "language": "python",
   "name": "python3"
  },
  "language_info": {
   "codemirror_mode": {
    "name": "ipython",
    "version": 3
   },
   "file_extension": ".py",
   "mimetype": "text/x-python",
   "name": "python",
   "nbconvert_exporter": "python",
   "pygments_lexer": "ipython3",
   "version": "3.6.3"
  },
  "widgets": {
   "application/vnd.jupyter.widget-state+json": {
    "state": {},
    "version_major": 2,
    "version_minor": 0
   }
  }
 },
 "nbformat": 4,
 "nbformat_minor": 2
}
