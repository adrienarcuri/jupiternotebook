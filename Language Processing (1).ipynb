{
 "cells": [
  {
   "cell_type": "markdown",
   "metadata": {},
   "source": [
    "# Counting words"
   ]
  },
  {
   "cell_type": "code",
   "execution_count": 1,
   "metadata": {},
   "outputs": [],
   "source": [
    "from collections import Counter"
   ]
  },
  {
   "cell_type": "code",
   "execution_count": 2,
   "metadata": {},
   "outputs": [],
   "source": [
    "text = \"Quam ob rem cave Catoni anteponas ne istum quidem ipsum, quem Apollo, ut ais, sapientissimum iudicavit; huius enim facta, illius dicta laudantur. De me autem, ut iam cum utroque vestrum loquar, sic habetote.\""
   ]
  },
  {
   "cell_type": "code",
   "execution_count": 3,
   "metadata": {},
   "outputs": [],
   "source": [
    "def count_words(text):\n",
    "    \"\"\" Documentation here\"\"\"\n",
    "    word_counts = {}\n",
    "    text = text.lower()\n",
    "    skips = [\".\", \",\", \";\", \":\", '\"', \"'\"]\n",
    "    \n",
    "    for ch in skips:\n",
    "        text = text.replace(ch,\"\")\n",
    "\n",
    "    for word in text.split(\" \"):\n",
    "        if word in word_counts:\n",
    "            word_counts[word] += 1\n",
    "        else:\n",
    "            word_counts[word] = 1\n",
    "    return word_counts\n",
    "        "
   ]
  },
  {
   "cell_type": "code",
   "execution_count": 4,
   "metadata": {},
   "outputs": [
    {
     "data": {
      "text/plain": [
       "{'ais': 1,\n",
       " 'anteponas': 1,\n",
       " 'apollo': 1,\n",
       " 'autem': 1,\n",
       " 'catoni': 1,\n",
       " 'cave': 1,\n",
       " 'cum': 1,\n",
       " 'de': 1,\n",
       " 'dicta': 1,\n",
       " 'enim': 1,\n",
       " 'facta': 1,\n",
       " 'habetote': 1,\n",
       " 'huius': 1,\n",
       " 'iam': 1,\n",
       " 'illius': 1,\n",
       " 'ipsum': 1,\n",
       " 'istum': 1,\n",
       " 'iudicavit': 1,\n",
       " 'laudantur': 1,\n",
       " 'loquar': 1,\n",
       " 'me': 1,\n",
       " 'ne': 1,\n",
       " 'ob': 1,\n",
       " 'quam': 1,\n",
       " 'quem': 1,\n",
       " 'quidem': 1,\n",
       " 'rem': 1,\n",
       " 'sapientissimum': 1,\n",
       " 'sic': 1,\n",
       " 'ut': 2,\n",
       " 'utroque': 1,\n",
       " 'vestrum': 1}"
      ]
     },
     "execution_count": 4,
     "metadata": {},
     "output_type": "execute_result"
    }
   ],
   "source": [
    "count_words(text)"
   ]
  },
  {
   "cell_type": "code",
   "execution_count": 5,
   "metadata": {},
   "outputs": [
    {
     "data": {
      "text/plain": [
       "'quam ob rem cave catoni anteponas ne istum quidem ipsum, quem apollo, ut ais, sapientissimum iudicavit; huius enim facta, illius dicta laudantur. de me autem, ut iam cum utroque vestrum loquar, sic habetote.'"
      ]
     },
     "execution_count": 5,
     "metadata": {},
     "output_type": "execute_result"
    }
   ],
   "source": [
    "text.lower()"
   ]
  },
  {
   "cell_type": "code",
   "execution_count": 6,
   "metadata": {},
   "outputs": [],
   "source": [
    "def count_words_fast(text):\n",
    "    \"\"\" Documentation here\"\"\"\n",
    "    word_counts = {}\n",
    "    text = text.lower()\n",
    "    skips = [\".\", \",\", \";\", \":\", '\"', \"'\"]\n",
    "    \n",
    "    for ch in skips:\n",
    "        text = text.replace(ch,\"\")\n",
    "\n",
    "    word_counts = Counter(text.split(\" \"))\n",
    "    return word_counts"
   ]
  },
  {
   "cell_type": "code",
   "execution_count": 7,
   "metadata": {},
   "outputs": [
    {
     "data": {
      "text/plain": [
       "Counter({'ais': 1,\n",
       "         'anteponas': 1,\n",
       "         'apollo': 1,\n",
       "         'autem': 1,\n",
       "         'catoni': 1,\n",
       "         'cave': 1,\n",
       "         'cum': 1,\n",
       "         'de': 1,\n",
       "         'dicta': 1,\n",
       "         'enim': 1,\n",
       "         'facta': 1,\n",
       "         'habetote': 1,\n",
       "         'huius': 1,\n",
       "         'iam': 1,\n",
       "         'illius': 1,\n",
       "         'ipsum': 1,\n",
       "         'istum': 1,\n",
       "         'iudicavit': 1,\n",
       "         'laudantur': 1,\n",
       "         'loquar': 1,\n",
       "         'me': 1,\n",
       "         'ne': 1,\n",
       "         'ob': 1,\n",
       "         'quam': 1,\n",
       "         'quem': 1,\n",
       "         'quidem': 1,\n",
       "         'rem': 1,\n",
       "         'sapientissimum': 1,\n",
       "         'sic': 1,\n",
       "         'ut': 2,\n",
       "         'utroque': 1,\n",
       "         'vestrum': 1})"
      ]
     },
     "execution_count": 7,
     "metadata": {},
     "output_type": "execute_result"
    }
   ],
   "source": [
    "count_words_fast(text)"
   ]
  },
  {
   "cell_type": "code",
   "execution_count": 8,
   "metadata": {},
   "outputs": [
    {
     "data": {
      "text/plain": [
       "True"
      ]
     },
     "execution_count": 8,
     "metadata": {},
     "output_type": "execute_result"
    }
   ],
   "source": [
    "count_words(text) == count_words_fast(text)"
   ]
  },
  {
   "cell_type": "markdown",
   "metadata": {},
   "source": [
    "# Readin in a book"
   ]
  },
  {
   "cell_type": "code",
   "execution_count": 9,
   "metadata": {},
   "outputs": [],
   "source": [
    "def read_book(title_path):\n",
    "    \"\"\"\"Read a book and return a string\"\"\"\n",
    "    with open(title_path, \"r\", encoding=\"utf8\") as current_file:\n",
    "        text = current_file.read()\n",
    "        text = text.replace(\"\\n\", \"\").replace(\"\\r\", \"\")\n",
    "    return text"
   ]
  },
  {
   "cell_type": "code",
   "execution_count": 10,
   "metadata": {},
   "outputs": [
    {
     "data": {
      "text/plain": [
       "'/home/jovyan'"
      ]
     },
     "execution_count": 10,
     "metadata": {},
     "output_type": "execute_result"
    }
   ],
   "source": [
    "pwd"
   ]
  },
  {
   "cell_type": "code",
   "execution_count": 11,
   "metadata": {},
   "outputs": [
    {
     "data": {
      "text/plain": [
       "409340"
      ]
     },
     "execution_count": 11,
     "metadata": {},
     "output_type": "execute_result"
    }
   ],
   "source": [
    "text = read_book(\"THE_KING_IN_YELLOW.txt\")\n",
    "len(text)"
   ]
  },
  {
   "cell_type": "code",
   "execution_count": 12,
   "metadata": {},
   "outputs": [],
   "source": [
    "ind = text.find(\"I will tell you\")"
   ]
  },
  {
   "cell_type": "code",
   "execution_count": 13,
   "metadata": {},
   "outputs": [
    {
     "name": "stdout",
     "output_type": "stream",
     "text": [
      "I will tell you. On your word as a soldier, promise me to read thismanuscript from beginning to end, without asking me a question. Promiseme to read these notes in the same way, and promise me to listen to whatI have to tell later.\"\"I promise, if you wish it,\" he said pleasantly. \"Give me the paper,Hildred.\"He began to read, raising his eyebrows with a puzzled, whimsical air,which made me tremble with suppressed anger. As he advanced his, eyebrowscontracted, and his lips seemed to form the word \"rubbish.\"Then he looked slightly bored, but apparently for my sake read, with anattempt at interest, which presently ceased to be an effort He startedwhen in the closely written pages he came to his own name, and when hecame to mine he lowered the paper, and looked sharply at me for a momentBut he kept his word, and resumed his reading, and I let the half-formedquestion die on his lips unanswered. When he came to the end and read thesignature of Mr. Wilde, he folded the paper carefully and retu\n"
     ]
    }
   ],
   "source": [
    "simple_text = text[ind: ind+1000]\n",
    "print(simple_text)"
   ]
  },
  {
   "cell_type": "markdown",
   "metadata": {},
   "source": [
    "# Computing Word Frequency Statistics"
   ]
  },
  {
   "cell_type": "code",
   "execution_count": 14,
   "metadata": {},
   "outputs": [],
   "source": [
    "def word_stats(word_counts):\n",
    "    \"\"\"\"Return number of unique words and frequencies\"\"\"\n",
    "    num_unique=len(word_counts)\n",
    "    counts = word_counts.values()\n",
    "    return (num_unique, counts)"
   ]
  },
  {
   "cell_type": "code",
   "execution_count": 15,
   "metadata": {},
   "outputs": [
    {
     "name": "stdout",
     "output_type": "stream",
     "text": [
      "14083\n",
      "68192\n"
     ]
    }
   ],
   "source": [
    "text = read_book(\"THE_KING_IN_YELLOW.txt\")\n",
    "word_counts = count_words(text)\n",
    "(num_unique, counts) = word_stats(word_counts)\n",
    "print(num_unique)\n",
    "print(sum(counts))\n"
   ]
  },
  {
   "cell_type": "markdown",
   "metadata": {},
   "source": [
    "# Reading Multiple Files"
   ]
  },
  {
   "cell_type": "code",
   "execution_count": 16,
   "metadata": {},
   "outputs": [
    {
     "name": "stdout",
     "output_type": "stream",
     "text": [
      "./Books/English/Stanley C. Johnson/The Flags of our Fighting Army.txt\n",
      "./Books/English/Stanley C. Johnson/Chats on Military Curios.txt\n",
      "./Books/French/Voltaire/Candide.txt\n"
     ]
    }
   ],
   "source": [
    "import os\n",
    "book_dir = \"./Books\"\n",
    "\n",
    "for language in os.listdir(book_dir):\n",
    "    for author in os.listdir(book_dir + \"/\" + language):\n",
    "        for title in os.listdir(book_dir + \"/\" + language + \"/\" + author):\n",
    "            inputfile = book_dir + \"/\" + language + \"/\" + author + \"/\" + title\n",
    "            print(inputfile)\n",
    "            text = read_book(inputfile)\n",
    "            num_unique, counts = word_stats(count_words(text))"
   ]
  },
  {
   "cell_type": "code",
   "execution_count": 17,
   "metadata": {},
   "outputs": [
    {
     "name": "stdout",
     "output_type": "stream",
     "text": [
      "Collecting pandas\n",
      "  Downloading pandas-0.22.0-cp36-cp36m-manylinux1_x86_64.whl (26.2MB)\n",
      "\u001b[K    100% |████████████████████████████████| 26.3MB 45kB/s  eta 0:00:01\n",
      "\u001b[?25hRequirement already satisfied: pytz>=2011k in /srv/venv/lib/python3.6/site-packages (from pandas)\n",
      "Requirement already satisfied: numpy>=1.9.0 in /srv/venv/lib/python3.6/site-packages (from pandas)\n",
      "Requirement already satisfied: python-dateutil>=2 in /srv/venv/lib/python3.6/site-packages (from pandas)\n",
      "Requirement already satisfied: six>=1.5 in /srv/venv/lib/python3.6/site-packages (from python-dateutil>=2->pandas)\n",
      "Installing collected packages: pandas\n",
      "Successfully installed pandas-0.22.0\n",
      "0.22.0\n"
     ]
    },
    {
     "data": {
      "text/html": [
       "<div>\n",
       "<style scoped>\n",
       "    .dataframe tbody tr th:only-of-type {\n",
       "        vertical-align: middle;\n",
       "    }\n",
       "\n",
       "    .dataframe tbody tr th {\n",
       "        vertical-align: top;\n",
       "    }\n",
       "\n",
       "    .dataframe thead th {\n",
       "        text-align: right;\n",
       "    }\n",
       "</style>\n",
       "<table border=\"1\" class=\"dataframe\">\n",
       "  <thead>\n",
       "    <tr style=\"text-align: right;\">\n",
       "      <th></th>\n",
       "      <th>name</th>\n",
       "      <th>age</th>\n",
       "    </tr>\n",
       "  </thead>\n",
       "  <tbody>\n",
       "    <tr>\n",
       "      <th>1</th>\n",
       "      <td>James</td>\n",
       "      <td>22</td>\n",
       "    </tr>\n",
       "    <tr>\n",
       "      <th>2</th>\n",
       "      <td>Jess</td>\n",
       "      <td>32</td>\n",
       "    </tr>\n",
       "  </tbody>\n",
       "</table>\n",
       "</div>"
      ],
      "text/plain": [
       "    name age\n",
       "1  James  22\n",
       "2   Jess  32"
      ]
     },
     "execution_count": 17,
     "metadata": {},
     "output_type": "execute_result"
    }
   ],
   "source": [
    "!pip install pandas\n",
    "\n",
    "import pandas as pd\n",
    "\n",
    "print(pd.__version__)\n",
    "table = pd.DataFrame(columns = (\"name\",\"age\"))\n",
    "table.loc[1] = \"James\", 22\n",
    "table.loc[2] = \"Jess\", 32\n",
    "table"
   ]
  },
  {
   "cell_type": "code",
   "execution_count": 18,
   "metadata": {},
   "outputs": [
    {
     "data": {
      "text/plain": [
       "Index(['name', 'age'], dtype='object')"
      ]
     },
     "execution_count": 18,
     "metadata": {},
     "output_type": "execute_result"
    }
   ],
   "source": [
    "table.columns"
   ]
  },
  {
   "cell_type": "code",
   "execution_count": 19,
   "metadata": {},
   "outputs": [],
   "source": [
    "stats = pd.DataFrame(columns =(\"language\",\"author\",\"title\",\"length\",\"unique\"))"
   ]
  },
  {
   "cell_type": "code",
   "execution_count": 20,
   "metadata": {},
   "outputs": [
    {
     "name": "stdout",
     "output_type": "stream",
     "text": [
      "./Books/English/Stanley C. Johnson/The Flags of our Fighting Army.txt\n",
      "./Books/English/Stanley C. Johnson/Chats on Military Curios.txt\n",
      "./Books/French/Voltaire/Candide.txt\n"
     ]
    }
   ],
   "source": [
    "title_num = 1\n",
    "for language in os.listdir(book_dir):\n",
    "    for author in os.listdir(book_dir + \"/\" + language):\n",
    "        for title in os.listdir(book_dir + \"/\" + language + \"/\" + author):\n",
    "            inputfile = book_dir + \"/\" + language + \"/\" + author + \"/\" + title\n",
    "            print(inputfile)\n",
    "            text = read_book(inputfile)\n",
    "            num_unique, counts = word_stats(count_words(text))\n",
    "            stats.loc[title_num] = language, author.capitalize(), title.replace(\".txt\",\"\"), sum(counts), num_unique\n",
    "            title_num += 1"
   ]
  },
  {
   "cell_type": "code",
   "execution_count": 21,
   "metadata": {},
   "outputs": [
    {
     "data": {
      "text/html": [
       "<div>\n",
       "<style scoped>\n",
       "    .dataframe tbody tr th:only-of-type {\n",
       "        vertical-align: middle;\n",
       "    }\n",
       "\n",
       "    .dataframe tbody tr th {\n",
       "        vertical-align: top;\n",
       "    }\n",
       "\n",
       "    .dataframe thead th {\n",
       "        text-align: right;\n",
       "    }\n",
       "</style>\n",
       "<table border=\"1\" class=\"dataframe\">\n",
       "  <thead>\n",
       "    <tr style=\"text-align: right;\">\n",
       "      <th></th>\n",
       "      <th>language</th>\n",
       "      <th>author</th>\n",
       "      <th>title</th>\n",
       "      <th>length</th>\n",
       "      <th>unique</th>\n",
       "    </tr>\n",
       "  </thead>\n",
       "  <tbody>\n",
       "    <tr>\n",
       "      <th>1</th>\n",
       "      <td>English</td>\n",
       "      <td>Stanley c. johnson</td>\n",
       "      <td>The Flags of our Fighting Army</td>\n",
       "      <td>43546</td>\n",
       "      <td>7789</td>\n",
       "    </tr>\n",
       "    <tr>\n",
       "      <th>2</th>\n",
       "      <td>English</td>\n",
       "      <td>Stanley c. johnson</td>\n",
       "      <td>Chats on Military Curios</td>\n",
       "      <td>62287</td>\n",
       "      <td>10609</td>\n",
       "    </tr>\n",
       "    <tr>\n",
       "      <th>3</th>\n",
       "      <td>French</td>\n",
       "      <td>Voltaire</td>\n",
       "      <td>Candide</td>\n",
       "      <td>35593</td>\n",
       "      <td>9214</td>\n",
       "    </tr>\n",
       "  </tbody>\n",
       "</table>\n",
       "</div>"
      ],
      "text/plain": [
       "  language              author                           title length unique\n",
       "1  English  Stanley c. johnson  The Flags of our Fighting Army  43546   7789\n",
       "2  English  Stanley c. johnson        Chats on Military Curios  62287  10609\n",
       "3   French            Voltaire                         Candide  35593   9214"
      ]
     },
     "execution_count": 21,
     "metadata": {},
     "output_type": "execute_result"
    }
   ],
   "source": [
    "stats"
   ]
  },
  {
   "cell_type": "code",
   "execution_count": 22,
   "metadata": {},
   "outputs": [
    {
     "data": {
      "text/html": [
       "<div>\n",
       "<style scoped>\n",
       "    .dataframe tbody tr th:only-of-type {\n",
       "        vertical-align: middle;\n",
       "    }\n",
       "\n",
       "    .dataframe tbody tr th {\n",
       "        vertical-align: top;\n",
       "    }\n",
       "\n",
       "    .dataframe thead th {\n",
       "        text-align: right;\n",
       "    }\n",
       "</style>\n",
       "<table border=\"1\" class=\"dataframe\">\n",
       "  <thead>\n",
       "    <tr style=\"text-align: right;\">\n",
       "      <th></th>\n",
       "      <th>language</th>\n",
       "      <th>author</th>\n",
       "      <th>title</th>\n",
       "      <th>length</th>\n",
       "      <th>unique</th>\n",
       "    </tr>\n",
       "  </thead>\n",
       "  <tbody>\n",
       "    <tr>\n",
       "      <th>1</th>\n",
       "      <td>English</td>\n",
       "      <td>Stanley c. johnson</td>\n",
       "      <td>The Flags of our Fighting Army</td>\n",
       "      <td>43546</td>\n",
       "      <td>7789</td>\n",
       "    </tr>\n",
       "    <tr>\n",
       "      <th>2</th>\n",
       "      <td>English</td>\n",
       "      <td>Stanley c. johnson</td>\n",
       "      <td>Chats on Military Curios</td>\n",
       "      <td>62287</td>\n",
       "      <td>10609</td>\n",
       "    </tr>\n",
       "    <tr>\n",
       "      <th>3</th>\n",
       "      <td>French</td>\n",
       "      <td>Voltaire</td>\n",
       "      <td>Candide</td>\n",
       "      <td>35593</td>\n",
       "      <td>9214</td>\n",
       "    </tr>\n",
       "  </tbody>\n",
       "</table>\n",
       "</div>"
      ],
      "text/plain": [
       "  language              author                           title length unique\n",
       "1  English  Stanley c. johnson  The Flags of our Fighting Army  43546   7789\n",
       "2  English  Stanley c. johnson        Chats on Military Curios  62287  10609\n",
       "3   French            Voltaire                         Candide  35593   9214"
      ]
     },
     "execution_count": 22,
     "metadata": {},
     "output_type": "execute_result"
    }
   ],
   "source": [
    "stats.head()"
   ]
  },
  {
   "cell_type": "code",
   "execution_count": 23,
   "metadata": {},
   "outputs": [
    {
     "data": {
      "text/html": [
       "<div>\n",
       "<style scoped>\n",
       "    .dataframe tbody tr th:only-of-type {\n",
       "        vertical-align: middle;\n",
       "    }\n",
       "\n",
       "    .dataframe tbody tr th {\n",
       "        vertical-align: top;\n",
       "    }\n",
       "\n",
       "    .dataframe thead th {\n",
       "        text-align: right;\n",
       "    }\n",
       "</style>\n",
       "<table border=\"1\" class=\"dataframe\">\n",
       "  <thead>\n",
       "    <tr style=\"text-align: right;\">\n",
       "      <th></th>\n",
       "      <th>language</th>\n",
       "      <th>author</th>\n",
       "      <th>title</th>\n",
       "      <th>length</th>\n",
       "      <th>unique</th>\n",
       "    </tr>\n",
       "  </thead>\n",
       "  <tbody>\n",
       "    <tr>\n",
       "      <th>1</th>\n",
       "      <td>English</td>\n",
       "      <td>Stanley c. johnson</td>\n",
       "      <td>The Flags of our Fighting Army</td>\n",
       "      <td>43546</td>\n",
       "      <td>7789</td>\n",
       "    </tr>\n",
       "    <tr>\n",
       "      <th>2</th>\n",
       "      <td>English</td>\n",
       "      <td>Stanley c. johnson</td>\n",
       "      <td>Chats on Military Curios</td>\n",
       "      <td>62287</td>\n",
       "      <td>10609</td>\n",
       "    </tr>\n",
       "    <tr>\n",
       "      <th>3</th>\n",
       "      <td>French</td>\n",
       "      <td>Voltaire</td>\n",
       "      <td>Candide</td>\n",
       "      <td>35593</td>\n",
       "      <td>9214</td>\n",
       "    </tr>\n",
       "  </tbody>\n",
       "</table>\n",
       "</div>"
      ],
      "text/plain": [
       "  language              author                           title length unique\n",
       "1  English  Stanley c. johnson  The Flags of our Fighting Army  43546   7789\n",
       "2  English  Stanley c. johnson        Chats on Military Curios  62287  10609\n",
       "3   French            Voltaire                         Candide  35593   9214"
      ]
     },
     "execution_count": 23,
     "metadata": {},
     "output_type": "execute_result"
    }
   ],
   "source": [
    "stats.tail()"
   ]
  },
  {
   "cell_type": "markdown",
   "metadata": {},
   "source": [
    "# Plotting Book Statistics"
   ]
  },
  {
   "cell_type": "code",
   "execution_count": 24,
   "metadata": {},
   "outputs": [
    {
     "data": {
      "text/plain": [
       "1    43546\n",
       "2    62287\n",
       "3    35593\n",
       "Name: length, dtype: object"
      ]
     },
     "execution_count": 24,
     "metadata": {},
     "output_type": "execute_result"
    }
   ],
   "source": [
    "stats.length"
   ]
  },
  {
   "cell_type": "code",
   "execution_count": 25,
   "metadata": {},
   "outputs": [
    {
     "data": {
      "text/plain": [
       "1     7789\n",
       "2    10609\n",
       "3     9214\n",
       "Name: unique, dtype: object"
      ]
     },
     "execution_count": 25,
     "metadata": {},
     "output_type": "execute_result"
    }
   ],
   "source": [
    "stats.unique"
   ]
  },
  {
   "cell_type": "code",
   "execution_count": 26,
   "metadata": {},
   "outputs": [
    {
     "name": "stdout",
     "output_type": "stream",
     "text": [
      "Requirement already satisfied: matplotlib in /srv/venv/lib/python3.6/site-packages\r\n",
      "Requirement already satisfied: cycler>=0.10 in /srv/venv/lib/python3.6/site-packages (from matplotlib)\r\n",
      "Requirement already satisfied: kiwisolver>=1.0.1 in /srv/venv/lib/python3.6/site-packages (from matplotlib)\r\n",
      "Requirement already satisfied: six>=1.10 in /srv/venv/lib/python3.6/site-packages (from matplotlib)\r\n",
      "Requirement already satisfied: python-dateutil>=2.1 in /srv/venv/lib/python3.6/site-packages (from matplotlib)\r\n",
      "Requirement already satisfied: pytz in /srv/venv/lib/python3.6/site-packages (from matplotlib)\r\n",
      "Requirement already satisfied: numpy>=1.7.1 in /srv/venv/lib/python3.6/site-packages (from matplotlib)\r\n",
      "Requirement already satisfied: pyparsing!=2.0.4,!=2.1.2,!=2.1.6,>=2.0.1 in /srv/venv/lib/python3.6/site-packages (from matplotlib)\r\n",
      "Requirement already satisfied: setuptools in /srv/venv/lib/python3.6/site-packages (from kiwisolver>=1.0.1->matplotlib)\r\n"
     ]
    }
   ],
   "source": [
    "!pip install matplotlib\n",
    "\n",
    "import matplotlib.pyplot as plt"
   ]
  },
  {
   "cell_type": "code",
   "execution_count": 27,
   "metadata": {},
   "outputs": [
    {
     "data": {
      "image/png": "[encoded data removed]",
      "text/plain": [
       "<Figure size 432x288 with 1 Axes>"
      ]
     },
     "metadata": {},
     "output_type": "display_data"
    }
   ],
   "source": [
    "plt.plot(stats.length, stats.unique, \"bo\");"
   ]
  },
  {
   "cell_type": "code",
   "execution_count": 28,
   "metadata": {},
   "outputs": [
    {
     "data": {
      "image/png": "[encoded data removed]",
      "text/plain": [
       "<Figure size 432x288 with 1 Axes>"
      ]
     },
     "metadata": {},
     "output_type": "display_data"
    }
   ],
   "source": [
    "plt.loglog(stats.length, stats.unique, \"bo\");"
   ]
  },
  {
   "cell_type": "code",
   "execution_count": 29,
   "metadata": {},
   "outputs": [
    {
     "data": {
      "text/html": [
       "<div>\n",
       "<style scoped>\n",
       "    .dataframe tbody tr th:only-of-type {\n",
       "        vertical-align: middle;\n",
       "    }\n",
       "\n",
       "    .dataframe tbody tr th {\n",
       "        vertical-align: top;\n",
       "    }\n",
       "\n",
       "    .dataframe thead th {\n",
       "        text-align: right;\n",
       "    }\n",
       "</style>\n",
       "<table border=\"1\" class=\"dataframe\">\n",
       "  <thead>\n",
       "    <tr style=\"text-align: right;\">\n",
       "      <th></th>\n",
       "      <th>language</th>\n",
       "      <th>author</th>\n",
       "      <th>title</th>\n",
       "      <th>length</th>\n",
       "      <th>unique</th>\n",
       "    </tr>\n",
       "  </thead>\n",
       "  <tbody>\n",
       "    <tr>\n",
       "      <th>1</th>\n",
       "      <td>English</td>\n",
       "      <td>Stanley c. johnson</td>\n",
       "      <td>The Flags of our Fighting Army</td>\n",
       "      <td>43546</td>\n",
       "      <td>7789</td>\n",
       "    </tr>\n",
       "    <tr>\n",
       "      <th>2</th>\n",
       "      <td>English</td>\n",
       "      <td>Stanley c. johnson</td>\n",
       "      <td>Chats on Military Curios</td>\n",
       "      <td>62287</td>\n",
       "      <td>10609</td>\n",
       "    </tr>\n",
       "  </tbody>\n",
       "</table>\n",
       "</div>"
      ],
      "text/plain": [
       "  language              author                           title length unique\n",
       "1  English  Stanley c. johnson  The Flags of our Fighting Army  43546   7789\n",
       "2  English  Stanley c. johnson        Chats on Military Curios  62287  10609"
      ]
     },
     "execution_count": 29,
     "metadata": {},
     "output_type": "execute_result"
    }
   ],
   "source": [
    "stats[stats.language == \"English\"]"
   ]
  },
  {
   "cell_type": "code",
   "execution_count": 30,
   "metadata": {},
   "outputs": [
    {
     "data": {
      "text/html": [
       "<div>\n",
       "<style scoped>\n",
       "    .dataframe tbody tr th:only-of-type {\n",
       "        vertical-align: middle;\n",
       "    }\n",
       "\n",
       "    .dataframe tbody tr th {\n",
       "        vertical-align: top;\n",
       "    }\n",
       "\n",
       "    .dataframe thead th {\n",
       "        text-align: right;\n",
       "    }\n",
       "</style>\n",
       "<table border=\"1\" class=\"dataframe\">\n",
       "  <thead>\n",
       "    <tr style=\"text-align: right;\">\n",
       "      <th></th>\n",
       "      <th>language</th>\n",
       "      <th>author</th>\n",
       "      <th>title</th>\n",
       "      <th>length</th>\n",
       "      <th>unique</th>\n",
       "    </tr>\n",
       "  </thead>\n",
       "  <tbody>\n",
       "    <tr>\n",
       "      <th>3</th>\n",
       "      <td>French</td>\n",
       "      <td>Voltaire</td>\n",
       "      <td>Candide</td>\n",
       "      <td>35593</td>\n",
       "      <td>9214</td>\n",
       "    </tr>\n",
       "  </tbody>\n",
       "</table>\n",
       "</div>"
      ],
      "text/plain": [
       "  language    author    title length unique\n",
       "3   French  Voltaire  Candide  35593   9214"
      ]
     },
     "execution_count": 30,
     "metadata": {},
     "output_type": "execute_result"
    }
   ],
   "source": [
    "stats[stats.language == \"French\"]"
   ]
  },
  {
   "cell_type": "code",
   "execution_count": 31,
   "metadata": {},
   "outputs": [
    {
     "data": {
      "image/png": "[encoded data removed]",
      "text/plain": [
       "<Figure size 720x720 with 1 Axes>"
      ]
     },
     "metadata": {},
     "output_type": "display_data"
    }
   ],
   "source": [
    "plt.figure(figsize=(10,10))\n",
    "subset = stats[stats.language == \"English\"]\n",
    "plt.loglog(subset.length, subset.unique, \"o\", label = \"English\", color = \"crimson\");\n",
    "subset = stats[stats.language == \"French\"]\n",
    "plt.loglog(subset.length, subset.unique, \"o\", label = \"French\", color = \"forestgreen\");\n",
    "plt.legend(\"Book length\")\n",
    "plt.xlabel(\"Book length\")\n",
    "plt.ylabel(\"Number of unique point\")\n",
    "plt.savefig(\"lang_plot.pdf\")"
   ]
  }
 ],
 "metadata": {
  "kernelspec": {
   "display_name": "Python 3",
   "language": "python",
   "name": "python3"
  },
  "language_info": {
   "codemirror_mode": {
    "name": "ipython",
    "version": 3
   },
   "file_extension": ".py",
   "mimetype": "text/x-python",
   "name": "python",
   "nbconvert_exporter": "python",
   "pygments_lexer": "ipython3",
   "version": "3.6.3"
  },
  "widgets": {
   "application/vnd.jupyter.widget-state+json": {
    "state": {},
    "version_major": 2,
    "version_minor": 0
   }
  }
 },
 "nbformat": 4,
 "nbformat_minor": 2
}
